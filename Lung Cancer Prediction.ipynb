{
 "cells": [
  {
   "cell_type": "markdown",
   "id": "56ab061b",
   "metadata": {},
   "source": [
    "## Lung Cancer Prediction"
   ]
  },
  {
   "cell_type": "code",
   "execution_count": 1,
   "id": "08390f43",
   "metadata": {},
   "outputs": [],
   "source": [
    "import numpy as np\n",
    "import pandas as pd\n",
    "import matplotlib.pyplot as plt\n",
    "import seaborn as sns\n",
    "import warnings\n",
    "import datetime\n",
    "warnings.filterwarnings(\"ignore\")\n",
    "%matplotlib inline"
   ]
  },
  {
   "cell_type": "code",
   "execution_count": 2,
   "id": "9a01ba62",
   "metadata": {},
   "outputs": [],
   "source": [
    "df=pd.read_csv(\"lung_cancer_examples.csv\")"
   ]
  },
  {
   "cell_type": "code",
   "execution_count": 4,
   "id": "f4f4802e",
   "metadata": {},
   "outputs": [
    {
     "data": {
      "text/html": [
       "<div>\n",
       "<style scoped>\n",
       "    .dataframe tbody tr th:only-of-type {\n",
       "        vertical-align: middle;\n",
       "    }\n",
       "\n",
       "    .dataframe tbody tr th {\n",
       "        vertical-align: top;\n",
       "    }\n",
       "\n",
       "    .dataframe thead th {\n",
       "        text-align: right;\n",
       "    }\n",
       "</style>\n",
       "<table border=\"1\" class=\"dataframe\">\n",
       "  <thead>\n",
       "    <tr style=\"text-align: right;\">\n",
       "      <th></th>\n",
       "      <th>Name</th>\n",
       "      <th>Surname</th>\n",
       "      <th>Age</th>\n",
       "      <th>Smokes</th>\n",
       "      <th>AreaQ</th>\n",
       "      <th>Alkhol</th>\n",
       "      <th>Result</th>\n",
       "    </tr>\n",
       "  </thead>\n",
       "  <tbody>\n",
       "    <tr>\n",
       "      <th>0</th>\n",
       "      <td>John</td>\n",
       "      <td>Wick</td>\n",
       "      <td>35</td>\n",
       "      <td>3</td>\n",
       "      <td>5</td>\n",
       "      <td>4</td>\n",
       "      <td>1</td>\n",
       "    </tr>\n",
       "    <tr>\n",
       "      <th>1</th>\n",
       "      <td>John</td>\n",
       "      <td>Constantine</td>\n",
       "      <td>27</td>\n",
       "      <td>20</td>\n",
       "      <td>2</td>\n",
       "      <td>5</td>\n",
       "      <td>1</td>\n",
       "    </tr>\n",
       "    <tr>\n",
       "      <th>2</th>\n",
       "      <td>Camela</td>\n",
       "      <td>Anderson</td>\n",
       "      <td>30</td>\n",
       "      <td>0</td>\n",
       "      <td>5</td>\n",
       "      <td>2</td>\n",
       "      <td>0</td>\n",
       "    </tr>\n",
       "    <tr>\n",
       "      <th>3</th>\n",
       "      <td>Alex</td>\n",
       "      <td>Telles</td>\n",
       "      <td>28</td>\n",
       "      <td>0</td>\n",
       "      <td>8</td>\n",
       "      <td>1</td>\n",
       "      <td>0</td>\n",
       "    </tr>\n",
       "    <tr>\n",
       "      <th>4</th>\n",
       "      <td>Diego</td>\n",
       "      <td>Maradona</td>\n",
       "      <td>68</td>\n",
       "      <td>4</td>\n",
       "      <td>5</td>\n",
       "      <td>6</td>\n",
       "      <td>1</td>\n",
       "    </tr>\n",
       "  </tbody>\n",
       "</table>\n",
       "</div>"
      ],
      "text/plain": [
       "     Name      Surname  Age  Smokes  AreaQ  Alkhol  Result\n",
       "0    John         Wick   35       3      5       4       1\n",
       "1    John  Constantine   27      20      2       5       1\n",
       "2  Camela     Anderson   30       0      5       2       0\n",
       "3    Alex       Telles   28       0      8       1       0\n",
       "4   Diego     Maradona   68       4      5       6       1"
      ]
     },
     "execution_count": 4,
     "metadata": {},
     "output_type": "execute_result"
    }
   ],
   "source": [
    "df.head()"
   ]
  },
  {
   "cell_type": "code",
   "execution_count": 5,
   "id": "db28feea",
   "metadata": {},
   "outputs": [
    {
     "data": {
      "text/html": [
       "<div>\n",
       "<style scoped>\n",
       "    .dataframe tbody tr th:only-of-type {\n",
       "        vertical-align: middle;\n",
       "    }\n",
       "\n",
       "    .dataframe tbody tr th {\n",
       "        vertical-align: top;\n",
       "    }\n",
       "\n",
       "    .dataframe thead th {\n",
       "        text-align: right;\n",
       "    }\n",
       "</style>\n",
       "<table border=\"1\" class=\"dataframe\">\n",
       "  <thead>\n",
       "    <tr style=\"text-align: right;\">\n",
       "      <th></th>\n",
       "      <th>Name</th>\n",
       "      <th>Surname</th>\n",
       "      <th>Age</th>\n",
       "      <th>Smokes</th>\n",
       "      <th>AreaQ</th>\n",
       "      <th>Alkhol</th>\n",
       "      <th>Result</th>\n",
       "    </tr>\n",
       "  </thead>\n",
       "  <tbody>\n",
       "    <tr>\n",
       "      <th>54</th>\n",
       "      <td>Ernest</td>\n",
       "      <td>Borgnine</td>\n",
       "      <td>26</td>\n",
       "      <td>13</td>\n",
       "      <td>6</td>\n",
       "      <td>1</td>\n",
       "      <td>0</td>\n",
       "    </tr>\n",
       "    <tr>\n",
       "      <th>55</th>\n",
       "      <td>Alec</td>\n",
       "      <td>Guinness</td>\n",
       "      <td>77</td>\n",
       "      <td>20</td>\n",
       "      <td>5</td>\n",
       "      <td>4</td>\n",
       "      <td>1</td>\n",
       "    </tr>\n",
       "    <tr>\n",
       "      <th>56</th>\n",
       "      <td>Charlton</td>\n",
       "      <td>Heston</td>\n",
       "      <td>75</td>\n",
       "      <td>15</td>\n",
       "      <td>3</td>\n",
       "      <td>5</td>\n",
       "      <td>1</td>\n",
       "    </tr>\n",
       "    <tr>\n",
       "      <th>57</th>\n",
       "      <td>Gregory</td>\n",
       "      <td>Peck</td>\n",
       "      <td>43</td>\n",
       "      <td>30</td>\n",
       "      <td>3</td>\n",
       "      <td>8</td>\n",
       "      <td>1</td>\n",
       "    </tr>\n",
       "    <tr>\n",
       "      <th>58</th>\n",
       "      <td>Sidney</td>\n",
       "      <td>Poitier</td>\n",
       "      <td>51</td>\n",
       "      <td>25</td>\n",
       "      <td>9</td>\n",
       "      <td>0</td>\n",
       "      <td>0</td>\n",
       "    </tr>\n",
       "  </tbody>\n",
       "</table>\n",
       "</div>"
      ],
      "text/plain": [
       "         Name   Surname  Age  Smokes  AreaQ  Alkhol  Result\n",
       "54    Ernest   Borgnine   26      13      6       1       0\n",
       "55      Alec   Guinness   77      20      5       4       1\n",
       "56  Charlton     Heston   75      15      3       5       1\n",
       "57   Gregory       Peck   43      30      3       8       1\n",
       "58    Sidney    Poitier   51      25      9       0       0"
      ]
     },
     "execution_count": 5,
     "metadata": {},
     "output_type": "execute_result"
    }
   ],
   "source": [
    "df.tail()"
   ]
  },
  {
   "cell_type": "code",
   "execution_count": 6,
   "id": "e5d47e55",
   "metadata": {},
   "outputs": [
    {
     "name": "stdout",
     "output_type": "stream",
     "text": [
      "<class 'pandas.core.frame.DataFrame'>\n",
      "RangeIndex: 59 entries, 0 to 58\n",
      "Data columns (total 7 columns):\n",
      " #   Column   Non-Null Count  Dtype \n",
      "---  ------   --------------  ----- \n",
      " 0   Name     59 non-null     object\n",
      " 1   Surname  59 non-null     object\n",
      " 2   Age      59 non-null     int64 \n",
      " 3   Smokes   59 non-null     int64 \n",
      " 4   AreaQ    59 non-null     int64 \n",
      " 5   Alkhol   59 non-null     int64 \n",
      " 6   Result   59 non-null     int64 \n",
      "dtypes: int64(5), object(2)\n",
      "memory usage: 3.4+ KB\n"
     ]
    }
   ],
   "source": [
    "df.info()"
   ]
  },
  {
   "cell_type": "code",
   "execution_count": 7,
   "id": "9514843b",
   "metadata": {},
   "outputs": [
    {
     "data": {
      "text/html": [
       "<div>\n",
       "<style scoped>\n",
       "    .dataframe tbody tr th:only-of-type {\n",
       "        vertical-align: middle;\n",
       "    }\n",
       "\n",
       "    .dataframe tbody tr th {\n",
       "        vertical-align: top;\n",
       "    }\n",
       "\n",
       "    .dataframe thead th {\n",
       "        text-align: right;\n",
       "    }\n",
       "</style>\n",
       "<table border=\"1\" class=\"dataframe\">\n",
       "  <thead>\n",
       "    <tr style=\"text-align: right;\">\n",
       "      <th></th>\n",
       "      <th>Age</th>\n",
       "      <th>Smokes</th>\n",
       "      <th>AreaQ</th>\n",
       "      <th>Alkhol</th>\n",
       "      <th>Result</th>\n",
       "    </tr>\n",
       "  </thead>\n",
       "  <tbody>\n",
       "    <tr>\n",
       "      <th>count</th>\n",
       "      <td>59.000000</td>\n",
       "      <td>59.000000</td>\n",
       "      <td>59.000000</td>\n",
       "      <td>59.000000</td>\n",
       "      <td>59.000000</td>\n",
       "    </tr>\n",
       "    <tr>\n",
       "      <th>mean</th>\n",
       "      <td>42.627119</td>\n",
       "      <td>15.067797</td>\n",
       "      <td>5.203390</td>\n",
       "      <td>3.237288</td>\n",
       "      <td>0.474576</td>\n",
       "    </tr>\n",
       "    <tr>\n",
       "      <th>std</th>\n",
       "      <td>16.235230</td>\n",
       "      <td>7.984607</td>\n",
       "      <td>2.461984</td>\n",
       "      <td>2.380517</td>\n",
       "      <td>0.503640</td>\n",
       "    </tr>\n",
       "    <tr>\n",
       "      <th>min</th>\n",
       "      <td>18.000000</td>\n",
       "      <td>0.000000</td>\n",
       "      <td>1.000000</td>\n",
       "      <td>0.000000</td>\n",
       "      <td>0.000000</td>\n",
       "    </tr>\n",
       "    <tr>\n",
       "      <th>25%</th>\n",
       "      <td>29.000000</td>\n",
       "      <td>10.000000</td>\n",
       "      <td>3.000000</td>\n",
       "      <td>1.000000</td>\n",
       "      <td>0.000000</td>\n",
       "    </tr>\n",
       "    <tr>\n",
       "      <th>50%</th>\n",
       "      <td>39.000000</td>\n",
       "      <td>15.000000</td>\n",
       "      <td>5.000000</td>\n",
       "      <td>3.000000</td>\n",
       "      <td>0.000000</td>\n",
       "    </tr>\n",
       "    <tr>\n",
       "      <th>75%</th>\n",
       "      <td>55.000000</td>\n",
       "      <td>20.000000</td>\n",
       "      <td>7.500000</td>\n",
       "      <td>5.000000</td>\n",
       "      <td>1.000000</td>\n",
       "    </tr>\n",
       "    <tr>\n",
       "      <th>max</th>\n",
       "      <td>77.000000</td>\n",
       "      <td>34.000000</td>\n",
       "      <td>10.000000</td>\n",
       "      <td>8.000000</td>\n",
       "      <td>1.000000</td>\n",
       "    </tr>\n",
       "  </tbody>\n",
       "</table>\n",
       "</div>"
      ],
      "text/plain": [
       "             Age     Smokes      AreaQ     Alkhol     Result\n",
       "count  59.000000  59.000000  59.000000  59.000000  59.000000\n",
       "mean   42.627119  15.067797   5.203390   3.237288   0.474576\n",
       "std    16.235230   7.984607   2.461984   2.380517   0.503640\n",
       "min    18.000000   0.000000   1.000000   0.000000   0.000000\n",
       "25%    29.000000  10.000000   3.000000   1.000000   0.000000\n",
       "50%    39.000000  15.000000   5.000000   3.000000   0.000000\n",
       "75%    55.000000  20.000000   7.500000   5.000000   1.000000\n",
       "max    77.000000  34.000000  10.000000   8.000000   1.000000"
      ]
     },
     "execution_count": 7,
     "metadata": {},
     "output_type": "execute_result"
    }
   ],
   "source": [
    "df.describe()"
   ]
  },
  {
   "cell_type": "code",
   "execution_count": 8,
   "id": "d7911863",
   "metadata": {},
   "outputs": [
    {
     "data": {
      "text/html": [
       "<div>\n",
       "<style scoped>\n",
       "    .dataframe tbody tr th:only-of-type {\n",
       "        vertical-align: middle;\n",
       "    }\n",
       "\n",
       "    .dataframe tbody tr th {\n",
       "        vertical-align: top;\n",
       "    }\n",
       "\n",
       "    .dataframe thead th {\n",
       "        text-align: right;\n",
       "    }\n",
       "</style>\n",
       "<table border=\"1\" class=\"dataframe\">\n",
       "  <thead>\n",
       "    <tr style=\"text-align: right;\">\n",
       "      <th></th>\n",
       "      <th>Age</th>\n",
       "      <th>Smokes</th>\n",
       "      <th>AreaQ</th>\n",
       "      <th>Alkhol</th>\n",
       "      <th>Result</th>\n",
       "    </tr>\n",
       "  </thead>\n",
       "  <tbody>\n",
       "    <tr>\n",
       "      <th>Age</th>\n",
       "      <td>1.000000</td>\n",
       "      <td>0.053665</td>\n",
       "      <td>-0.268957</td>\n",
       "      <td>0.318621</td>\n",
       "      <td>0.637726</td>\n",
       "    </tr>\n",
       "    <tr>\n",
       "      <th>Smokes</th>\n",
       "      <td>0.053665</td>\n",
       "      <td>1.000000</td>\n",
       "      <td>-0.353295</td>\n",
       "      <td>0.469915</td>\n",
       "      <td>0.373444</td>\n",
       "    </tr>\n",
       "    <tr>\n",
       "      <th>AreaQ</th>\n",
       "      <td>-0.268957</td>\n",
       "      <td>-0.353295</td>\n",
       "      <td>1.000000</td>\n",
       "      <td>-0.714412</td>\n",
       "      <td>-0.746621</td>\n",
       "    </tr>\n",
       "    <tr>\n",
       "      <th>Alkhol</th>\n",
       "      <td>0.318621</td>\n",
       "      <td>0.469915</td>\n",
       "      <td>-0.714412</td>\n",
       "      <td>1.000000</td>\n",
       "      <td>0.810439</td>\n",
       "    </tr>\n",
       "    <tr>\n",
       "      <th>Result</th>\n",
       "      <td>0.637726</td>\n",
       "      <td>0.373444</td>\n",
       "      <td>-0.746621</td>\n",
       "      <td>0.810439</td>\n",
       "      <td>1.000000</td>\n",
       "    </tr>\n",
       "  </tbody>\n",
       "</table>\n",
       "</div>"
      ],
      "text/plain": [
       "             Age    Smokes     AreaQ    Alkhol    Result\n",
       "Age     1.000000  0.053665 -0.268957  0.318621  0.637726\n",
       "Smokes  0.053665  1.000000 -0.353295  0.469915  0.373444\n",
       "AreaQ  -0.268957 -0.353295  1.000000 -0.714412 -0.746621\n",
       "Alkhol  0.318621  0.469915 -0.714412  1.000000  0.810439\n",
       "Result  0.637726  0.373444 -0.746621  0.810439  1.000000"
      ]
     },
     "execution_count": 8,
     "metadata": {},
     "output_type": "execute_result"
    }
   ],
   "source": [
    "df.corr()"
   ]
  },
  {
   "cell_type": "code",
   "execution_count": 10,
   "id": "b444782d",
   "metadata": {},
   "outputs": [
    {
     "data": {
      "text/plain": [
       "<AxesSubplot:>"
      ]
     },
     "execution_count": 10,
     "metadata": {},
     "output_type": "execute_result"
    },
    {
     "data": {
      "image/png": "[encoded data removed]",
      "text/plain": [
       "<Figure size 432x288 with 2 Axes>"
      ]
     },
     "metadata": {
      "needs_background": "light"
     },
     "output_type": "display_data"
    }
   ],
   "source": [
    "sns.heatmap(df.corr(),annot=True)"
   ]
  },
  {
   "cell_type": "code",
   "execution_count": 36,
   "id": "099f0ebd",
   "metadata": {},
   "outputs": [
    {
     "data": {
      "text/plain": [
       "<AxesSubplot:>"
      ]
     },
     "execution_count": 36,
     "metadata": {},
     "output_type": "execute_result"
    },
    {
     "data": {
      "image/png": "[encoded data removed]",
      "text/plain": [
       "<Figure size 432x288 with 1 Axes>"
      ]
     },
     "metadata": {
      "needs_background": "light"
     },
     "output_type": "display_data"
    }
   ],
   "source": [
    "df.Result.value_counts().plot.bar()"
   ]
  },
  {
   "cell_type": "code",
   "execution_count": 11,
   "id": "5b28a110",
   "metadata": {},
   "outputs": [
    {
     "data": {
      "text/plain": [
       "Name       0\n",
       "Surname    0\n",
       "Age        0\n",
       "Smokes     0\n",
       "AreaQ      0\n",
       "Alkhol     0\n",
       "Result     0\n",
       "dtype: int64"
      ]
     },
     "execution_count": 11,
     "metadata": {},
     "output_type": "execute_result"
    }
   ],
   "source": [
    "df.isnull().sum()"
   ]
  },
  {
   "cell_type": "code",
   "execution_count": 12,
   "id": "115034e1",
   "metadata": {},
   "outputs": [],
   "source": [
    "def classification_funct(dataset,column_to_be_studied):\n",
    "    from sklearn.naive_bayes import GaussianNB\n",
    "    from sklearn.naive_bayes import BernoulliNB\n",
    "    from sklearn.svm import SVC\n",
    "    from sklearn.neighbors import KNeighborsClassifier\n",
    "    from sklearn.tree import DecisionTreeClassifier\n",
    "    from sklearn.ensemble import RandomForestClassifier\n",
    "    from sklearn.linear_model import LogisticRegression\n",
    "    from xgboost import XGBClassifier #yüklemek için !pip install xgboost kullandım\n",
    "    \n",
    "    from sklearn.model_selection import train_test_split\n",
    "    \n",
    "    from sklearn.metrics import accuracy_score,precision_score,recall_score,f1_score\n",
    "    from sklearn.metrics import confusion_matrix,classification_report\n",
    "       \n",
    "    dataset=dataset[dataset[column_to_be_studied].notnull()]\n",
    "    x,y=dataset.drop(column_to_be_studied,axis=1),dataset[[column_to_be_studied]]    \n",
    "    x=pd.get_dummies(x,drop_first=True)\n",
    "    x_train,x_test,y_train,y_test=train_test_split(x,y,test_size=0.2,random_state=42)\n",
    "\n",
    "    g=GaussianNB()\n",
    "    b=BernoulliNB()\n",
    "    KN=KNeighborsClassifier()\n",
    "    SVC=SVC() \n",
    "    D=DecisionTreeClassifier()\n",
    "    R=RandomForestClassifier()\n",
    "    Log=LogisticRegression()\n",
    "    XGB=XGBClassifier()\n",
    "    \n",
    "    algos=[g,b,KN,SVC,D,R,Log,XGB]\n",
    "    algo_names=['GaussianNB','BernoulliNB','KNeighborsClassifier','SVC','DecisionTreeClassifier','RandomForestClassifier','LogisticRegression','XGBClassifier']\n",
    "   \n",
    "    accuracy_scored=[]\n",
    "    precision_scored=[]\n",
    "    recall_scored=[]\n",
    "    f1_scored=[]\n",
    "    \n",
    "    for item in algos:\n",
    "        item.fit(x_train,y_train)\n",
    "        item.predict(x_test)\n",
    "        accuracy_scored.append(accuracy_score(y_test,item.predict(x_test)))\n",
    "        precision_scored.append(precision_score(y_test,item.predict(x_test)))\n",
    "        recall_scored.append(recall_score(y_test,item.predict(x_test)))\n",
    "        f1_scored.append(f1_score(y_test,item.predict(x_test)))\n",
    "      \n",
    "    result=pd.DataFrame(columns=['f1_score','recall_score','precision_score','accuracy_score'],index=algo_names)\n",
    "    result['f1_score']=f1_scored\n",
    "    result['recall_score']=recall_scored\n",
    "    result['precision_score']=precision_scored\n",
    "    result['accuracy_score']=accuracy_scored\n",
    "    return result.sort_values('accuracy_score',ascending=False)"
   ]
  },
  {
   "cell_type": "code",
   "execution_count": 17,
   "id": "f6cde715",
   "metadata": {},
   "outputs": [
    {
     "data": {
      "text/html": [
       "<div>\n",
       "<style scoped>\n",
       "    .dataframe tbody tr th:only-of-type {\n",
       "        vertical-align: middle;\n",
       "    }\n",
       "\n",
       "    .dataframe tbody tr th {\n",
       "        vertical-align: top;\n",
       "    }\n",
       "\n",
       "    .dataframe thead th {\n",
       "        text-align: right;\n",
       "    }\n",
       "</style>\n",
       "<table border=\"1\" class=\"dataframe\">\n",
       "  <thead>\n",
       "    <tr style=\"text-align: right;\">\n",
       "      <th></th>\n",
       "      <th>Age</th>\n",
       "      <th>Smokes</th>\n",
       "      <th>AreaQ</th>\n",
       "      <th>Alkhol</th>\n",
       "      <th>Result</th>\n",
       "    </tr>\n",
       "  </thead>\n",
       "  <tbody>\n",
       "    <tr>\n",
       "      <th>27</th>\n",
       "      <td>34</td>\n",
       "      <td>12</td>\n",
       "      <td>8</td>\n",
       "      <td>0</td>\n",
       "      <td>0</td>\n",
       "    </tr>\n",
       "    <tr>\n",
       "      <th>23</th>\n",
       "      <td>44</td>\n",
       "      <td>5</td>\n",
       "      <td>8</td>\n",
       "      <td>1</td>\n",
       "      <td>0</td>\n",
       "    </tr>\n",
       "    <tr>\n",
       "      <th>34</th>\n",
       "      <td>26</td>\n",
       "      <td>10</td>\n",
       "      <td>7</td>\n",
       "      <td>2</td>\n",
       "      <td>0</td>\n",
       "    </tr>\n",
       "    <tr>\n",
       "      <th>43</th>\n",
       "      <td>63</td>\n",
       "      <td>20</td>\n",
       "      <td>4</td>\n",
       "      <td>5</td>\n",
       "      <td>1</td>\n",
       "    </tr>\n",
       "    <tr>\n",
       "      <th>25</th>\n",
       "      <td>21</td>\n",
       "      <td>20</td>\n",
       "      <td>5</td>\n",
       "      <td>3</td>\n",
       "      <td>0</td>\n",
       "    </tr>\n",
       "  </tbody>\n",
       "</table>\n",
       "</div>"
      ],
      "text/plain": [
       "    Age  Smokes  AreaQ  Alkhol  Result\n",
       "27   34      12      8       0       0\n",
       "23   44       5      8       1       0\n",
       "34   26      10      7       2       0\n",
       "43   63      20      4       5       1\n",
       "25   21      20      5       3       0"
      ]
     },
     "execution_count": 17,
     "metadata": {},
     "output_type": "execute_result"
    }
   ],
   "source": [
    "df_2=df.drop([\"Name\",\"Surname\"],axis=1)\n",
    "df_2.sample(5)"
   ]
  },
  {
   "cell_type": "code",
   "execution_count": 18,
   "id": "fa707d8e",
   "metadata": {},
   "outputs": [
    {
     "name": "stdout",
     "output_type": "stream",
     "text": [
      "[23:26:56] WARNING: C:/Users/Administrator/workspace/xgboost-win64_release_1.4.0/src/learner.cc:1095: Starting in XGBoost 1.3.0, the default evaluation metric used with the objective 'binary:logistic' was changed from 'error' to 'logloss'. Explicitly set eval_metric if you'd like to restore the old behavior.\n"
     ]
    },
    {
     "data": {
      "text/html": [
       "<div>\n",
       "<style scoped>\n",
       "    .dataframe tbody tr th:only-of-type {\n",
       "        vertical-align: middle;\n",
       "    }\n",
       "\n",
       "    .dataframe tbody tr th {\n",
       "        vertical-align: top;\n",
       "    }\n",
       "\n",
       "    .dataframe thead th {\n",
       "        text-align: right;\n",
       "    }\n",
       "</style>\n",
       "<table border=\"1\" class=\"dataframe\">\n",
       "  <thead>\n",
       "    <tr style=\"text-align: right;\">\n",
       "      <th></th>\n",
       "      <th>f1_score</th>\n",
       "      <th>recall_score</th>\n",
       "      <th>precision_score</th>\n",
       "      <th>accuracy_score</th>\n",
       "    </tr>\n",
       "  </thead>\n",
       "  <tbody>\n",
       "    <tr>\n",
       "      <th>GaussianNB</th>\n",
       "      <td>0.857143</td>\n",
       "      <td>0.75</td>\n",
       "      <td>1.0</td>\n",
       "      <td>0.916667</td>\n",
       "    </tr>\n",
       "    <tr>\n",
       "      <th>DecisionTreeClassifier</th>\n",
       "      <td>0.857143</td>\n",
       "      <td>0.75</td>\n",
       "      <td>1.0</td>\n",
       "      <td>0.916667</td>\n",
       "    </tr>\n",
       "    <tr>\n",
       "      <th>RandomForestClassifier</th>\n",
       "      <td>0.857143</td>\n",
       "      <td>0.75</td>\n",
       "      <td>1.0</td>\n",
       "      <td>0.916667</td>\n",
       "    </tr>\n",
       "    <tr>\n",
       "      <th>LogisticRegression</th>\n",
       "      <td>0.857143</td>\n",
       "      <td>0.75</td>\n",
       "      <td>1.0</td>\n",
       "      <td>0.916667</td>\n",
       "    </tr>\n",
       "    <tr>\n",
       "      <th>XGBClassifier</th>\n",
       "      <td>0.857143</td>\n",
       "      <td>0.75</td>\n",
       "      <td>1.0</td>\n",
       "      <td>0.916667</td>\n",
       "    </tr>\n",
       "    <tr>\n",
       "      <th>KNeighborsClassifier</th>\n",
       "      <td>0.666667</td>\n",
       "      <td>0.50</td>\n",
       "      <td>1.0</td>\n",
       "      <td>0.833333</td>\n",
       "    </tr>\n",
       "    <tr>\n",
       "      <th>SVC</th>\n",
       "      <td>0.666667</td>\n",
       "      <td>0.50</td>\n",
       "      <td>1.0</td>\n",
       "      <td>0.833333</td>\n",
       "    </tr>\n",
       "    <tr>\n",
       "      <th>BernoulliNB</th>\n",
       "      <td>0.571429</td>\n",
       "      <td>1.00</td>\n",
       "      <td>0.4</td>\n",
       "      <td>0.500000</td>\n",
       "    </tr>\n",
       "  </tbody>\n",
       "</table>\n",
       "</div>"
      ],
      "text/plain": [
       "                        f1_score  recall_score  precision_score  \\\n",
       "GaussianNB              0.857143          0.75              1.0   \n",
       "DecisionTreeClassifier  0.857143          0.75              1.0   \n",
       "RandomForestClassifier  0.857143          0.75              1.0   \n",
       "LogisticRegression      0.857143          0.75              1.0   \n",
       "XGBClassifier           0.857143          0.75              1.0   \n",
       "KNeighborsClassifier    0.666667          0.50              1.0   \n",
       "SVC                     0.666667          0.50              1.0   \n",
       "BernoulliNB             0.571429          1.00              0.4   \n",
       "\n",
       "                        accuracy_score  \n",
       "GaussianNB                    0.916667  \n",
       "DecisionTreeClassifier        0.916667  \n",
       "RandomForestClassifier        0.916667  \n",
       "LogisticRegression            0.916667  \n",
       "XGBClassifier                 0.916667  \n",
       "KNeighborsClassifier          0.833333  \n",
       "SVC                           0.833333  \n",
       "BernoulliNB                   0.500000  "
      ]
     },
     "execution_count": 18,
     "metadata": {},
     "output_type": "execute_result"
    }
   ],
   "source": [
    "classification_funct(df_2,\"Result\")"
   ]
  },
  {
   "cell_type": "markdown",
   "id": "7999ba76",
   "metadata": {},
   "source": [
    "## Deep Learning Uygulanırsa?"
   ]
  },
  {
   "cell_type": "code",
   "execution_count": 19,
   "id": "2919f6ec",
   "metadata": {},
   "outputs": [],
   "source": [
    "from tensorflow.keras.models import Sequential\n",
    "from tensorflow.keras.layers import Dense"
   ]
  },
  {
   "cell_type": "code",
   "execution_count": 27,
   "id": "93acc153",
   "metadata": {},
   "outputs": [],
   "source": [
    "model=Sequential()\n",
    "model.add(Dense(512,activation='relu'))\n",
    "model.add(Dense(512,activation='relu'))\n",
    "model.add(Dense(512,activation='relu'))\n",
    "model.add(Dense(512,activation='relu'))\n",
    "model.add(Dense(1,activation='sigmoid'))"
   ]
  },
  {
   "cell_type": "code",
   "execution_count": 28,
   "id": "4f71a0a7",
   "metadata": {},
   "outputs": [],
   "source": [
    "model.compile(loss='binary_crossentropy',optimizer=\"adam\",metrics=[\"accuracy\"])"
   ]
  },
  {
   "cell_type": "code",
   "execution_count": 29,
   "id": "b2a19a23",
   "metadata": {},
   "outputs": [],
   "source": [
    "x,y=df.drop(\"Result\",axis=1),df[[\"Result\"]]    \n",
    "x=pd.get_dummies(x,drop_first=True)"
   ]
  },
  {
   "cell_type": "code",
   "execution_count": 30,
   "id": "6961dddd",
   "metadata": {},
   "outputs": [
    {
     "name": "stdout",
     "output_type": "stream",
     "text": [
      "Epoch 1/50\n",
      "12/12 [==============================] - 2s 70ms/step - loss: 1.2987 - accuracy: 0.4746\n",
      "Epoch 2/50\n",
      "12/12 [==============================] - 1s 68ms/step - loss: 0.7360 - accuracy: 0.5932\n",
      "Epoch 3/50\n",
      "12/12 [==============================] - 1s 83ms/step - loss: 0.4389 - accuracy: 0.7627\n",
      "Epoch 4/50\n",
      "12/12 [==============================] - 1s 70ms/step - loss: 0.0958 - accuracy: 1.0000\n",
      "Epoch 5/50\n",
      "12/12 [==============================] - 1s 61ms/step - loss: 0.3374 - accuracy: 0.8644\n",
      "Epoch 6/50\n",
      "12/12 [==============================] - 1s 70ms/step - loss: 0.0836 - accuracy: 0.9661\n",
      "Epoch 7/50\n",
      "12/12 [==============================] - 1s 75ms/step - loss: 0.0213 - accuracy: 1.0000\n",
      "Epoch 8/50\n",
      "12/12 [==============================] - 1s 73ms/step - loss: 0.0611 - accuracy: 0.9661\n",
      "Epoch 9/50\n",
      "12/12 [==============================] - 1s 65ms/step - loss: 0.0206 - accuracy: 1.0000\n",
      "Epoch 10/50\n",
      "12/12 [==============================] - 1s 70ms/step - loss: 0.0563 - accuracy: 0.9661\n",
      "Epoch 11/50\n",
      "12/12 [==============================] - 1s 67ms/step - loss: 0.1213 - accuracy: 0.9661\n",
      "Epoch 12/50\n",
      "12/12 [==============================] - 1s 64ms/step - loss: 0.0085 - accuracy: 1.0000\n",
      "Epoch 13/50\n",
      "12/12 [==============================] - 1s 77ms/step - loss: 0.0025 - accuracy: 1.0000\n",
      "Epoch 14/50\n",
      "12/12 [==============================] - 1s 71ms/step - loss: 8.2241e-04 - accuracy: 1.0000\n",
      "Epoch 15/50\n",
      "12/12 [==============================] - 1s 74ms/step - loss: 2.4543e-04 - accuracy: 1.0000\n",
      "Epoch 16/50\n",
      "12/12 [==============================] - 1s 68ms/step - loss: 8.4286e-05 - accuracy: 1.0000\n",
      "Epoch 17/50\n",
      "12/12 [==============================] - 1s 64ms/step - loss: 4.9907e-05 - accuracy: 1.0000\n",
      "Epoch 18/50\n",
      "12/12 [==============================] - 1s 69ms/step - loss: 3.6251e-05 - accuracy: 1.0000\n",
      "Epoch 19/50\n",
      "12/12 [==============================] - 1s 67ms/step - loss: 3.0241e-05 - accuracy: 1.0000\n",
      "Epoch 20/50\n",
      "12/12 [==============================] - 1s 82ms/step - loss: 2.2631e-05 - accuracy: 1.0000\n",
      "Epoch 21/50\n",
      "12/12 [==============================] - 1s 76ms/step - loss: 1.8948e-05 - accuracy: 1.0000\n",
      "Epoch 22/50\n",
      "12/12 [==============================] - 1s 76ms/step - loss: 1.6311e-05 - accuracy: 1.0000\n",
      "Epoch 23/50\n",
      "12/12 [==============================] - 1s 78ms/step - loss: 1.4028e-05 - accuracy: 1.0000\n",
      "Epoch 24/50\n",
      "12/12 [==============================] - 1s 76ms/step - loss: 1.2026e-05 - accuracy: 1.0000\n",
      "Epoch 25/50\n",
      "12/12 [==============================] - 1s 68ms/step - loss: 1.0519e-05 - accuracy: 1.0000\n",
      "Epoch 26/50\n",
      "12/12 [==============================] - 1s 77ms/step - loss: 9.6354e-06 - accuracy: 1.0000\n",
      "Epoch 27/50\n",
      "12/12 [==============================] - 1s 71ms/step - loss: 8.4800e-06 - accuracy: 1.0000\n",
      "Epoch 28/50\n",
      "12/12 [==============================] - 1s 68ms/step - loss: 7.5753e-06 - accuracy: 1.0000\n",
      "Epoch 29/50\n",
      "12/12 [==============================] - 1s 64ms/step - loss: 6.8721e-06 - accuracy: 1.0000\n",
      "Epoch 30/50\n",
      "12/12 [==============================] - 1s 77ms/step - loss: 6.2770e-06 - accuracy: 1.0000\n",
      "Epoch 31/50\n",
      "12/12 [==============================] - 1s 67ms/step - loss: 5.7909e-06 - accuracy: 1.0000\n",
      "Epoch 32/50\n",
      "12/12 [==============================] - 1s 64ms/step - loss: 5.1802e-06 - accuracy: 1.0000\n",
      "Epoch 33/50\n",
      "12/12 [==============================] - 1s 68ms/step - loss: 4.8607e-06 - accuracy: 1.0000\n",
      "Epoch 34/50\n",
      "12/12 [==============================] - 1s 68ms/step - loss: 4.4523e-06 - accuracy: 1.0000\n",
      "Epoch 35/50\n",
      "12/12 [==============================] - 1s 66ms/step - loss: 4.2218e-06 - accuracy: 1.0000\n",
      "Epoch 36/50\n",
      "12/12 [==============================] - 1s 73ms/step - loss: 3.8658e-06 - accuracy: 1.0000\n",
      "Epoch 37/50\n",
      "12/12 [==============================] - 1s 71ms/step - loss: 3.5952e-06 - accuracy: 1.0000\n",
      "Epoch 38/50\n",
      "12/12 [==============================] - 1s 72ms/step - loss: 3.3571e-06 - accuracy: 1.0000\n",
      "Epoch 39/50\n",
      "12/12 [==============================] - 1s 88ms/step - loss: 3.1708e-06 - accuracy: 1.0000\n",
      "Epoch 40/50\n",
      "12/12 [==============================] - 1s 77ms/step - loss: 3.0023e-06 - accuracy: 1.0000\n",
      "Epoch 41/50\n",
      "12/12 [==============================] - 1s 68ms/step - loss: 2.8006e-06 - accuracy: 1.0000\n",
      "Epoch 42/50\n",
      "12/12 [==============================] - 1s 68ms/step - loss: 2.6740e-06 - accuracy: 1.0000\n",
      "Epoch 43/50\n",
      "12/12 [==============================] - 1s 64ms/step - loss: 2.5133e-06 - accuracy: 1.0000\n",
      "Epoch 44/50\n",
      "12/12 [==============================] - 1s 69ms/step - loss: 2.3649e-06 - accuracy: 1.0000\n",
      "Epoch 45/50\n",
      "12/12 [==============================] - 1s 71ms/step - loss: 2.2529e-06 - accuracy: 1.0000\n",
      "Epoch 46/50\n",
      "12/12 [==============================] - 1s 71ms/step - loss: 2.1465e-06 - accuracy: 1.0000\n",
      "Epoch 47/50\n",
      "12/12 [==============================] - 1s 77ms/step - loss: 2.0263e-06 - accuracy: 1.0000\n",
      "Epoch 48/50\n",
      "12/12 [==============================] - 1s 72ms/step - loss: 1.9248e-06 - accuracy: 1.0000\n",
      "Epoch 49/50\n",
      "12/12 [==============================] - 1s 70ms/step - loss: 1.8398e-06 - accuracy: 1.0000\n",
      "Epoch 50/50\n",
      "12/12 [==============================] - 1s 67ms/step - loss: 1.7883e-06 - accuracy: 1.0000\n"
     ]
    },
    {
     "data": {
      "text/plain": [
       "<tensorflow.python.keras.callbacks.History at 0x17306f7c580>"
      ]
     },
     "execution_count": 30,
     "metadata": {},
     "output_type": "execute_result"
    }
   ],
   "source": [
    "model.fit(x,y,epochs=50,batch_size=5,verbose=1)"
   ]
  },
  {
   "cell_type": "code",
   "execution_count": 31,
   "id": "be16c45a",
   "metadata": {},
   "outputs": [
    {
     "name": "stdout",
     "output_type": "stream",
     "text": [
      "Model: \"sequential_1\"\n",
      "_________________________________________________________________\n",
      "Layer (type)                 Output Shape              Param #   \n",
      "=================================================================\n",
      "dense_5 (Dense)              (None, 512)               51712     \n",
      "_________________________________________________________________\n",
      "dense_6 (Dense)              (None, 512)               262656    \n",
      "_________________________________________________________________\n",
      "dense_7 (Dense)              (None, 512)               262656    \n",
      "_________________________________________________________________\n",
      "dense_8 (Dense)              (None, 512)               262656    \n",
      "_________________________________________________________________\n",
      "dense_9 (Dense)              (None, 1)                 513       \n",
      "=================================================================\n",
      "Total params: 840,193\n",
      "Trainable params: 840,193\n",
      "Non-trainable params: 0\n",
      "_________________________________________________________________\n"
     ]
    }
   ],
   "source": [
    "model.summary()"
   ]
  },
  {
   "cell_type": "code",
   "execution_count": 32,
   "id": "22e316a8",
   "metadata": {},
   "outputs": [
    {
     "name": "stdout",
     "output_type": "stream",
     "text": [
      "2/2 [==============================] - 0s 48ms/step - loss: 1.6985e-06 - accuracy: 1.0000\n"
     ]
    }
   ],
   "source": [
    "scores=model.evaluate(x,y)"
   ]
  },
  {
   "cell_type": "code",
   "execution_count": 33,
   "id": "e02b7b0f",
   "metadata": {},
   "outputs": [
    {
     "name": "stdout",
     "output_type": "stream",
     "text": [
      "accuracy: 100.00%\n"
     ]
    }
   ],
   "source": [
    "print(\"%s: %.2f%%\" % (model.metrics_names[1],scores[1]*100))"
   ]
  },
  {
   "cell_type": "code",
   "execution_count": null,
   "id": "b8847fc3",
   "metadata": {},
   "outputs": [],
   "source": []
  }
 ],
 "metadata": {
  "kernelspec": {
   "display_name": "Python 3",
   "language": "python",
   "name": "python3"
  },
  "language_info": {
   "codemirror_mode": {
    "name": "ipython",
    "version": 3
   },
   "file_extension": ".py",
   "mimetype": "text/x-python",
   "name": "python",
   "nbconvert_exporter": "python",
   "pygments_lexer": "ipython3",
   "version": "3.8.8"
  }
 },
 "nbformat": 4,
 "nbformat_minor": 5
}
